{
  "cells": [
    {
      "cell_type": "markdown",
      "metadata": {},
      "source": [
        "# `Nuqleon.StringSegment`\n",
        "\n",
        "Provides a type providing a view into a `System.String` to avoid allocations when performing string operations, e.g. `Substring`.\n",
        "\n",
        "> **Note:** This type predates the introduction of `Span<T>` APIs in .NET, which may provide a valid alternative."
      ]
    },
    {
      "cell_type": "markdown",
      "metadata": {},
      "source": [
        "## Reference the library"
      ]
    },
    {
      "cell_type": "markdown",
      "metadata": {},
      "source": [
        "### Option 1 - Use a local build\n",
        "\n",
        "If you have built the library locally, run the following cell to load the latest build."
      ]
    },
    {
      "cell_type": "code",
      "execution_count": 1,
      "metadata": {
        "dotnet_interactive": {
          "language": "csharp"
        }
      },
      "source": [
        "#r \"bin/Debug/net50/Nuqleon.StringSegment.dll\""
      ],
      "outputs": []
    },
    {
      "cell_type": "markdown",
      "metadata": {},
      "source": [
        "### Option 2 - Use NuGet packages\n",
        "\n",
        "If you want to use the latest published package from NuGet, run the following cell."
      ]
    },
    {
      "cell_type": "code",
      "execution_count": 1,
      "metadata": {
        "dotnet_interactive": {
          "language": "csharp"
        }
      },
      "source": [
        "#r \"nuget:Nuqleon.StringSegment,*-*\""
      ],
      "outputs": []
    },
    {
      "cell_type": "markdown",
      "metadata": {},
      "source": [
        "## (Optional) Attach a debugger\n",
        "\n",
        "If you'd like to step through the source code of the library while running samples, run the following cell, and follow instructions to start a debugger (e.g. Visual Studio). Navigate to the source code of the library to set breakpoints."
      ]
    },
    {
      "cell_type": "code",
      "execution_count": 1,
      "metadata": {
        "dotnet_interactive": {
          "language": "csharp"
        }
      },
      "source": [
        "System.Diagnostics.Debugger.Launch();"
      ],
      "outputs": []
    },
    {
      "cell_type": "markdown",
      "metadata": {},
      "source": [
        "## `StringSegment`\n",
        "\n",
        "A `StringSegment` provides an API surface similar to `String` but is backed by a view into an underlying string, starting at a specified offset, and with a specified length. An example to break a text into a sequence of sentences is shown below. To construct these `StringSegment` objects containing the sentences, we use the `StringSegment` constructor."
      ]
    },
    {
      "cell_type": "code",
      "execution_count": 1,
      "metadata": {
        "dotnet_interactive": {
          "language": "csharp"
        }
      },
      "source": [
        "var text = \"Lorem ipsum dolor sit amet, consectetur adipiscing elit, sed do eiusmod tempor incididunt ut labore et dolore magna aliqua. Ut enim ad minim veniam, quis nostrud exercitation ullamco laboris nisi ut aliquip ex ea commodo consequat. Duis aute irure dolor in reprehenderit in voluptate velit esse cillum dolore eu fugiat nulla pariatur. Excepteur sint occaecat cupidatat non proident, sunt in culpa qui officia deserunt mollit anim id est laborum.\";\n",
        "\n",
        "static IEnumerable<StringSegment> GetSentences(string text)\n",
        "{\n",
        "    int start = 0;\n",
        "    int i = 0;\n",
        "\n",
        "    while (i < text.Length)\n",
        "    {\n",
        "        char c = text[i];\n",
        "\n",
        "        if (c == '.')\n",
        "        {\n",
        "            yield return new StringSegment(text, start, i - start + 1);\n",
        "\n",
        "            i++;\n",
        "\n",
        "            while (i < text.Length && text[i] == ' ')\n",
        "            {\n",
        "                i++;\n",
        "            }\n",
        "\n",
        "            start = i;\n",
        "        }\n",
        "        else\n",
        "        {\n",
        "            i++;\n",
        "        }\n",
        "    }\n",
        "}\n",
        "\n",
        "foreach (var sentence in GetSentences(text))\n",
        "{\n",
        "    Console.WriteLine(sentence);\n",
        "}"
      ],
      "outputs": []
    },
    {
      "cell_type": "markdown",
      "metadata": {},
      "source": [
        "The methods on `StringSegment` are identical to those on `String`, but rather than accepting and returning `String` instances, they operate on `StringSegment` instances instead. As an example, consider the `Split` and `TrimEnd` methods, which we can use to break sentences into words, as shown below."
      ]
    },
    {
      "cell_type": "code",
      "execution_count": 1,
      "metadata": {
        "dotnet_interactive": {
          "language": "csharp"
        }
      },
      "source": [
        "static IEnumerable<StringSegment> GetWords(StringSegment sentence)\n",
        "{\n",
        "    return sentence.Split(' ').Select(word => word.TrimEnd(',', ';', '.'));\n",
        "}\n",
        "\n",
        "foreach (var sentence in GetSentences(text))\n",
        "{\n",
        "    Console.WriteLine(sentence);\n",
        "\n",
        "    foreach (var word in GetWords(sentence))\n",
        "    {\n",
        "        Console.WriteLine(\"  \" + word);\n",
        "    }\n",
        "}"
      ],
      "outputs": []
    },
    {
      "cell_type": "markdown",
      "metadata": {},
      "source": [
        "In all of the code above, we haven't allocated a single new `String` instance. All the `StringSegment` objects simply refer to the original `String` and use an offset and a length to delineate a substring.\n",
        "\n",
        "Next, let's try to change all words to lower case, in a defensive manner. That is, if all letters are already lower case, we won't call `ToLower` which will allocate a new `String` (and wrap it in a `StringSegment`)."
      ]
    },
    {
      "cell_type": "code",
      "execution_count": 1,
      "metadata": {
        "dotnet_interactive": {
          "language": "csharp"
        }
      },
      "source": [
        "var words = from sentence in GetSentences(text)\n",
        "            from word in GetWords(sentence)\n",
        "            let x = word.All(char.IsLower) ? word : word.ToLower()\n",
        "            select x;\n",
        "\n",
        "foreach (var word in words)\n",
        "{\n",
        "    Console.WriteLine(word);\n",
        "}"
      ],
      "outputs": []
    },
    {
      "cell_type": "markdown",
      "metadata": {},
      "source": [
        "Finally, we'll have a look at equality behavior of `StringSegment` by using `GroupBy` to find the most frequently used words."
      ]
    },
    {
      "cell_type": "code",
      "execution_count": 1,
      "metadata": {
        "dotnet_interactive": {
          "language": "csharp"
        }
      },
      "source": [
        "var res = from word in words\n",
        "          group word by word into g\n",
        "          let count = g.Count()\n",
        "          where count > 1\n",
        "          orderby count descending\n",
        "          select new { Word = g.Key, Count = count };\n",
        "\n",
        "foreach (var word in res)\n",
        "{\n",
        "    Console.WriteLine(word);\n",
        "}"
      ],
      "outputs": []
    }
  ],
  "metadata": {
    "kernelspec": {
      "display_name": ".NET (C#)",
      "language": "C#",
      "name": ".net-csharp"
    },
    "language_info": {
      "file_extension": ".cs",
      "mimetype": "text/x-csharp",
      "name": "C#",
      "pygments_lexer": "csharp",
      "version": "8.0"
    }
  },
  "nbformat": 4,
  "nbformat_minor": 4
}