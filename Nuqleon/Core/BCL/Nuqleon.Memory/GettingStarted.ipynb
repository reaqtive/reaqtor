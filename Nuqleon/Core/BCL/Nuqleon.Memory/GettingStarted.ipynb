{
  "cells": [
    {
      "cell_type": "markdown",
      "metadata": {},
      "source": [
        "# `Nuqleon.Memory`\n",
        "\n",
        "Provides object pools, function memoization, and caching utilities."
      ]
    },
    {
      "cell_type": "markdown",
      "metadata": {},
      "source": [
        "## Reference the library"
      ]
    },
    {
      "cell_type": "markdown",
      "metadata": {},
      "source": [
        "### Option 1 - Use a local build\n",
        "\n",
        "If you have built the library locally, run the following cell to load the latest build."
      ]
    },
    {
      "cell_type": "code",
      "execution_count": 1,
      "metadata": {
        "dotnet_interactive": {
          "language": "csharp"
        }
      },
      "source": [
        "#r \"bin/Debug/net50/Nuqleon.Memory.dll\""
      ],
      "outputs": []
    },
    {
      "cell_type": "markdown",
      "metadata": {},
      "source": [
        "### Option 2 - Use NuGet packages\n",
        "\n",
        "If you want to use the latest published package from NuGet, run the following cell."
      ]
    },
    {
      "cell_type": "code",
      "execution_count": 1,
      "metadata": {
        "dotnet_interactive": {
          "language": "csharp"
        }
      },
      "source": [
        "#r \"nuget:Nuqleon.Memory,*-*\""
      ],
      "outputs": []
    },
    {
      "cell_type": "markdown",
      "metadata": {},
      "source": [
        "## Using object pools\n",
        "\n",
        "Object pools can be used to reduce the overhead of allocating fresh objects. This library supports object pooling for arbitrary types but also have built-in support for commonly used types, such as `StringBuilder` and various collection types.\n",
        "\n",
        "First, we'll explore support for built-in types by having a look at pooling for `Stack<T>` objects. Support for other types is completely analogous."
      ]
    },
    {
      "cell_type": "markdown",
      "metadata": {},
      "source": [
        "### Step 1 - Create a pool\n",
        "\n",
        "The first step is to create a pool using one of the `Create` static method overloads on the pool type. In this example, we'll use `StackPool<T>` and create a pool that can grow up to `8` instances."
      ]
    },
    {
      "cell_type": "code",
      "execution_count": 1,
      "metadata": {
        "dotnet_interactive": {
          "language": "csharp"
        }
      },
      "source": [
        "var pool = StackPool<int>.Create(size: 8);"
      ],
      "outputs": []
    },
    {
      "cell_type": "markdown",
      "metadata": {},
      "source": [
        "### Step 2 - Inspect the pool using `DebugView`\n",
        "\n",
        "At any time we can have a look at the pool's internals using the `DebugView` property. This shows statistics of the pool, as well as call stacks for allocations and deallocations in `DEBUG` builds."
      ]
    },
    {
      "cell_type": "code",
      "execution_count": 1,
      "metadata": {
        "dotnet_interactive": {
          "language": "csharp"
        }
      },
      "source": [
        "pool.DebugView"
      ],
      "outputs": []
    },
    {
      "cell_type": "markdown",
      "metadata": {},
      "source": [
        "### Step 3 - Allocate an object from the pool\n",
        "\n",
        "One way to allocate an object from the pool is by using `Allocate`. Once we're done using the object, we call `Free`. This is typically done in a safe manner, e.g. using a `try...finally...` statement. In case an object is not returned to the pool, it will just get garbage collected and the pool's performance will be degraded. However, there won't be a memory leak."
      ]
    },
    {
      "cell_type": "code",
      "execution_count": 1,
      "metadata": {
        "dotnet_interactive": {
          "language": "csharp"
        }
      },
      "source": [
        "PooledStack<int> stack = pool.Allocate();\n",
        "\n",
        "Console.WriteLine(pool.DebugView);\n",
        "\n",
        "try\n",
        "{\n",
        "    // Use the object here.\n",
        "    stack.Push(1);\n",
        "}\n",
        "finally\n",
        "{\n",
        "    pool.Free(stack);\n",
        "}"
      ],
      "outputs": []
    },
    {
      "cell_type": "markdown",
      "metadata": {},
      "source": [
        "Now that we've returned the object back to the pool, let's inspect the pool again."
      ]
    },
    {
      "cell_type": "code",
      "execution_count": 1,
      "metadata": {
        "dotnet_interactive": {
          "language": "csharp"
        }
      },
      "source": [
        "Console.WriteLine(pool.DebugView);"
      ],
      "outputs": []
    },
    {
      "cell_type": "markdown",
      "metadata": {},
      "source": [
        "### Step 4 - An alternative way to allocate from the pool\n",
        "\n",
        "An alternative way to allocate an object from the pool is by using `New` which returns a holder object that implements `IDisposable` and can be used with a `using` statement. This makes it easier to ensure returning the object to the pool, even in exceptional circumstances."
      ]
    },
    {
      "cell_type": "code",
      "execution_count": 1,
      "metadata": {
        "dotnet_interactive": {
          "language": "csharp"
        }
      },
      "source": [
        "using (PooledStackHolder<int> h = pool.New())\n",
        "{\n",
        "    display(pool.DebugView);\n",
        "    \n",
        "    var s = h.Stack;\n",
        "\n",
        "    // Use the object here.\n",
        "    s.Push(1);\n",
        "}"
      ],
      "outputs": []
    },
    {
      "cell_type": "markdown",
      "metadata": {},
      "source": [
        "Now that we've returned the object back to the pool, let's inspect the pool again."
      ]
    },
    {
      "cell_type": "code",
      "execution_count": 1,
      "metadata": {
        "dotnet_interactive": {
          "language": "csharp"
        }
      },
      "source": [
        "display(pool.DebugView)"
      ],
      "outputs": []
    },
    {
      "cell_type": "markdown",
      "metadata": {},
      "source": [
        "## Function memoization\n",
        "\n",
        "Function memoization is a technique to cache the results of evaluating a pure function in order to speed up future invocations. As an example, consider the well-known recursive Fibonacci generator."
      ]
    },
    {
      "cell_type": "code",
      "execution_count": 1,
      "metadata": {
        "dotnet_interactive": {
          "language": "csharp"
        }
      },
      "source": [
        "Func<long, long> fib = null;\n",
        "\n",
        "fib = n => n <= 1 ? 1 : checked(fib(n - 1) + fib(n - 2));"
      ],
      "outputs": []
    },
    {
      "cell_type": "markdown",
      "metadata": {},
      "source": [
        "Evaluating the Fibonacci generator causes repeated evaluation of the same function with the same argument. For example:\n",
        "\n",
        "```\n",
        "fib(3) = fib(2) + fib(1)\n",
        "fib(2) =          fib(1) + fib(0)\n",
        "```\n",
        "\n",
        "Let's run the Fibonacci generator for a few values and time the execution."
      ]
    },
    {
      "cell_type": "code",
      "execution_count": 1,
      "metadata": {
        "dotnet_interactive": {
          "language": "csharp"
        }
      },
      "source": [
        "using System.Diagnostics;\n",
        "\n",
        "void PrintFibonacci(int max, TimeSpan maxTimeToCompute)\n",
        "{\n",
        "    var sw = new Stopwatch();\n",
        "\n",
        "    for (int i = 0; i < max; i++)\n",
        "    {\n",
        "        sw.Restart();\n",
        "\n",
        "        long res = 0L;\n",
        "        try\n",
        "        {\n",
        "            res = fib(i);\n",
        "        }\n",
        "        catch (OverflowException)\n",
        "        {\n",
        "            Console.WriteLine($\"fib({i}) = Overflow\");\n",
        "            return;\n",
        "        }\n",
        "\n",
        "        sw.Stop();\n",
        "        Console.WriteLine($\"fib({i}) = {res} - Took {sw.Elapsed}\");\n",
        "\n",
        "        // Stop if it starts taking too long.\n",
        "        if (sw.Elapsed > maxTimeToCompute)\n",
        "        {\n",
        "            break;\n",
        "        }\n",
        "    }\n",
        "}\n",
        "\n",
        "PrintFibonacci(100, TimeSpan.FromSeconds(5));"
      ],
      "outputs": []
    },
    {
      "cell_type": "markdown",
      "metadata": {},
      "source": [
        "Most likely, you didn't get much further than some `40`-ish iterations. Let's use this example to illustrate memoization for function evaluation."
      ]
    },
    {
      "cell_type": "markdown",
      "metadata": {},
      "source": [
        "The first step to make memoization work is to create a so-called *memoization cache factory*. Each memoized function will have an associated memoization cache. Factories for such caches determine the policy of the cache. In the sample below we'll use an `Unbounded` cache which does not limit the number of entries in the cache. Other options are caches with least-recently-used (LRU) policies or other eviction policies."
      ]
    },
    {
      "cell_type": "code",
      "execution_count": 1,
      "metadata": {
        "dotnet_interactive": {
          "language": "csharp"
        }
      },
      "source": [
        "using System.Memory;\n",
        "\n",
        "IMemoizationCacheFactory factory = MemoizationCacheFactory.Unbounded;"
      ],
      "outputs": []
    },
    {
      "cell_type": "markdown",
      "metadata": {},
      "source": [
        "Now that we have a cache factory, we can create a *memoizer* that will be used to memoize functions."
      ]
    },
    {
      "cell_type": "code",
      "execution_count": 1,
      "metadata": {
        "dotnet_interactive": {
          "language": "csharp"
        }
      },
      "source": [
        "IMemoizer mem = Memoizer.Create(factory);"
      ],
      "outputs": []
    },
    {
      "cell_type": "markdown",
      "metadata": {},
      "source": [
        "Finally, we use the memoizer to `Memoize` the function. After doing so, we end up with a pair of a cache and a memoized function of the same delegate type."
      ]
    },
    {
      "cell_type": "code",
      "execution_count": 1,
      "metadata": {
        "dotnet_interactive": {
          "language": "csharp"
        }
      },
      "source": [
        "IMemoizedDelegate<Func<long, long>> memoizedFib = mem.Memoize(fib);\n",
        "\n",
        "// The cache and delegate pair.\n",
        "IMemoizationCache cache = memoizedFib.Cache;\n",
        "Func<long, long> fibMemoized = memoizedFib.Delegate;\n",
        "\n",
        "// Let's replace the original delegate by the memoized one, which was also used in the body of the recursive definition of fib.\n",
        "fib = fibMemoized;\n",
        "\n",
        "// Now we should get much further along.\n",
        "PrintFibonacci(100, TimeSpan.FromSeconds(5));"
      ],
      "outputs": []
    },
    {
      "cell_type": "markdown",
      "metadata": {},
      "source": [
        "To see what's going on, let's explore the cache."
      ]
    },
    {
      "cell_type": "code",
      "execution_count": 1,
      "metadata": {
        "dotnet_interactive": {
          "language": "csharp"
        }
      },
      "source": [
        "cache.DebugView"
      ],
      "outputs": []
    },
    {
      "cell_type": "markdown",
      "metadata": {},
      "source": [
        "Other memoization functionality includes:\n",
        "\n",
        "* Support for memoization of N-ary functions.\n",
        "* Different cache policies, e.g. LRU or eviction based on metrics. See static methods on `MemoizationCacheFactory`.\n",
        "* Weak memoization caches where inputs of the function are not held alive for the sole purpose of caching (i.e. they act as weak references)."
      ]
    }
  ],
  "metadata": {
    "kernelspec": {
      "display_name": ".NET (C#)",
      "language": "C#",
      "name": ".net-csharp"
    },
    "language_info": {
      "file_extension": ".cs",
      "mimetype": "text/x-csharp",
      "name": "C#",
      "pygments_lexer": "csharp",
      "version": "8.0"
    }
  },
  "nbformat": 4,
  "nbformat_minor": 4
}